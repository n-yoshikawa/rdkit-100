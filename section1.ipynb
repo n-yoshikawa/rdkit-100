{
 "cells": [
  {
   "cell_type": "markdown",
   "id": "fiscal-meeting",
   "metadata": {},
   "source": [
    "# 第1章 Molオブジェクトの使い方\n",
    "第1章ではRDKitで最もよく使われるMolオブジェクトの基本的な使い方を確認する。"
   ]
  },
  {
   "cell_type": "markdown",
   "id": "comparative-squad",
   "metadata": {},
   "source": [
    "## 00. バージョン確認\n",
    "現在インストールされているRDKitのバージョンを表示せよ。"
   ]
  },
  {
   "cell_type": "code",
   "execution_count": 1,
   "id": "swiss-lesbian",
   "metadata": {
    "scrolled": false
   },
   "outputs": [
    {
     "name": "stdout",
     "output_type": "stream",
     "text": [
      "2019.09.3\n"
     ]
    },
    {
     "name": "stderr",
     "output_type": "stream",
     "text": [
      "RDKit WARNING: [01:05:01] Enabling RDKit 2019.09.3 jupyter extensions\n"
     ]
    }
   ],
   "source": [
    "import rdkit\n",
    "\n",
    "print(rdkit.__version__)"
   ]
  },
  {
   "cell_type": "markdown",
   "id": "lyric-vienna",
   "metadata": {},
   "source": [
    "**解説** 上の書き方が最もPythonらしいとされているが、次のような書き方もできる。（参考: [Version info from python - Issue #380](https://github.com/rdkit/rdkit/issues/380)）"
   ]
  },
  {
   "cell_type": "code",
   "execution_count": 2,
   "id": "swiss-wallace",
   "metadata": {},
   "outputs": [
    {
     "name": "stdout",
     "output_type": "stream",
     "text": [
      "2019.09.3\n"
     ]
    }
   ],
   "source": [
    "from rdkit import rdBase\n",
    "\n",
    "print(rdBase.rdkitVersion)"
   ]
  },
  {
   "cell_type": "markdown",
   "id": "incorporated-harvard",
   "metadata": {},
   "source": [
    "## 01. SMILESの読み込み\n",
    "SMILES `Cc1ccccc1` で表される分子のMolオブジェクトを`mol`という名前で作成せよ。"
   ]
  },
  {
   "cell_type": "code",
   "execution_count": 3,
   "id": "guided-contents",
   "metadata": {},
   "outputs": [],
   "source": [
    "from rdkit import Chem\n",
    "\n",
    "mol = Chem.MolFromSmiles('Cc1ccccc1')"
   ]
  },
  {
   "cell_type": "markdown",
   "id": "adjacent-october",
   "metadata": {},
   "source": [
    "**解説** SMILESを読み込むためには`MolFromSmiles()` を使う。"
   ]
  },
  {
   "cell_type": "markdown",
   "id": "finished-greeting",
   "metadata": {},
   "source": [
    "## 02. 分子の表示\n",
    "01 で作成した分子の構造式をJupyter Notebook上に表示せよ。"
   ]
  },
  {
   "cell_type": "code",
   "execution_count": 4,
   "id": "better-correction",
   "metadata": {},
   "outputs": [
    {
     "data": {
      "image/png": "[encoded data removed]",
      "text/plain": [
       "<rdkit.Chem.rdchem.Mol at 0x15411c36df80>"
      ]
     },
     "execution_count": 4,
     "metadata": {},
     "output_type": "execute_result"
    }
   ],
   "source": [
    "mol"
   ]
  },
  {
   "cell_type": "markdown",
   "id": "urban-wells",
   "metadata": {},
   "source": [
    "**解説** RDKitには様々な分子の表示方法があるが、Jupyter Notebook上ではMolオブジェクト名のみを書いたセルを実行するのが最も簡単である。分子の表示方法については第2章で詳しく述べるが、次のような別解もある。"
   ]
  },
  {
   "cell_type": "code",
   "execution_count": 5,
   "id": "according-syndrome",
   "metadata": {},
   "outputs": [
    {
     "data": {
      "image/png": "[encoded data removed]",
      "text/plain": [
       "<PIL.PngImagePlugin.PngImageFile image mode=RGB size=600x200 at 0x15411C2CE1F0>"
      ]
     },
     "execution_count": 5,
     "metadata": {},
     "output_type": "execute_result"
    }
   ],
   "source": [
    "from rdkit.Chem import Draw\n",
    "\n",
    "Draw.MolsToGridImage([mol])"
   ]
  },
  {
   "cell_type": "markdown",
   "id": "nutritional-calendar",
   "metadata": {},
   "source": [
    "## 03. Canonical SMILES への変換\n",
    "SMILES `[C@](Br)(Cl)(CCCC(F)C1)1` をCanonical SMILESに変換し、表示せよ。"
   ]
  },
  {
   "cell_type": "code",
   "execution_count": 6,
   "id": "complimentary-providence",
   "metadata": {},
   "outputs": [
    {
     "name": "stdout",
     "output_type": "stream",
     "text": [
      "FC1CCC[C@@](Cl)(Br)C1\n"
     ]
    }
   ],
   "source": [
    "canonical_smiles = Chem.MolToSmiles(Chem.MolFromSmiles('[C@](Br)(Cl)(CCCC(F)C1)1'))\n",
    "print(canonical_smiles)"
   ]
  },
  {
   "cell_type": "markdown",
   "id": "informative-symphony",
   "metadata": {},
   "source": [
    "**解説** RDKitでは `MolToSmiles()` が出力するSMILESをCanonical SMILESと呼ぶことが多いが、Canonical SMILESの生成アルゴリズムはソフトによって異なることに注意する必要がある。"
   ]
  },
  {
   "cell_type": "markdown",
   "id": "labeled-mainstream",
   "metadata": {},
   "source": [
    "## 04. 水素を含まない原子数のカウント\n",
    "SMILES `Cc1ccccc1` で表される分子に含まれる水素以外の原子の個数を出力せよ。"
   ]
  },
  {
   "cell_type": "code",
   "execution_count": 7,
   "id": "electoral-tuesday",
   "metadata": {},
   "outputs": [
    {
     "name": "stdout",
     "output_type": "stream",
     "text": [
      "7\n"
     ]
    }
   ],
   "source": [
    "mol = Chem.MolFromSmiles('Cc1ccccc1')\n",
    "print(mol.GetNumHeavyAtoms())"
   ]
  },
  {
   "cell_type": "markdown",
   "id": "catholic-editing",
   "metadata": {},
   "source": [
    "**解説** 分子に含まれる水素以外の原子の個数は `GetNumHeavyAtoms()` を使って求めることができる。"
   ]
  },
  {
   "cell_type": "markdown",
   "id": "integral-november",
   "metadata": {},
   "source": [
    "## 05. 水素を含む原子数のカウント\n",
    "SMILES `Cc1ccccc1` で表される分子に水素を付加し、水素を含む原子の個数を出力せよ。"
   ]
  },
  {
   "cell_type": "code",
   "execution_count": 8,
   "id": "killing-luxury",
   "metadata": {},
   "outputs": [
    {
     "name": "stdout",
     "output_type": "stream",
     "text": [
      "15\n"
     ]
    }
   ],
   "source": [
    "mol = Chem.MolFromSmiles('Cc1ccccc1')\n",
    "mol_with_H = Chem.AddHs(mol)\n",
    "print(mol_with_H.GetNumAtoms())"
   ]
  },
  {
   "cell_type": "markdown",
   "id": "human-sending",
   "metadata": {},
   "source": [
    "**解説** RDKitのデフォルトでは水素を暗黙的に扱うため、水素を明示的に扱いたい場合には `AddHs()` を実行する必要がある。付加した水素を削除するには `RemoveHs()` を用いる。"
   ]
  },
  {
   "cell_type": "code",
   "execution_count": 9,
   "id": "million-numbers",
   "metadata": {},
   "outputs": [
    {
     "name": "stdout",
     "output_type": "stream",
     "text": [
      "7\n",
      "15\n",
      "7\n"
     ]
    },
    {
     "data": {
      "image/png": "[encoded data removed]",
      "text/plain": [
       "<PIL.PngImagePlugin.PngImageFile image mode=RGB size=600x200 at 0x15411C390F40>"
      ]
     },
     "execution_count": 9,
     "metadata": {},
     "output_type": "execute_result"
    }
   ],
   "source": [
    "mol = Chem.MolFromSmiles('Cc1ccccc1')\n",
    "print(mol.GetNumAtoms())    # 水素が暗黙的に扱われているので7となる\n",
    "\n",
    "mol_with_H = Chem.AddHs(mol)        # 水素を付加する\n",
    "print(mol_with_H.GetNumAtoms())     # 水素が明示的に扱われているので15となる\n",
    "\n",
    "mol_without_H = Chem.RemoveHs(mol_with_H)  # 水素を削除する\n",
    "print(mol_without_H.GetNumAtoms())         # 水素が削除されたので7となる\n",
    "Draw.MolsToGridImage([mol, mol_with_H, mol_without_H])  # 水素表示のオン・オフが切り替わる"
   ]
  },
  {
   "cell_type": "markdown",
   "id": "laughing-christmas",
   "metadata": {},
   "source": [
    "## 06. 原子に対するループ\n",
    "SMILES `CC(N)=O` で表される分子に含まれる水素以外の原子について、原子のインデックス・元素記号・原子番号を表示せよ。"
   ]
  },
  {
   "cell_type": "code",
   "execution_count": 10,
   "id": "announced-diving",
   "metadata": {},
   "outputs": [
    {
     "name": "stdout",
     "output_type": "stream",
     "text": [
      "0 C 6\n",
      "1 C 6\n",
      "2 N 7\n",
      "3 O 8\n"
     ]
    }
   ],
   "source": [
    "mol = Chem.MolFromSmiles('CC(N)=O')\n",
    "for atom in mol.GetAtoms():\n",
    "    print(atom.GetIdx(), atom.GetSymbol(), atom.GetAtomicNum())"
   ]
  },
  {
   "cell_type": "markdown",
   "id": "controversial-finder",
   "metadata": {},
   "source": [
    "**解説** `GetAtoms()` を使うことで分子内の原子に対するループを書くことができる。\n",
    "各原子について元素記号や原子番号の他にも質量や形式電荷・隣接する原子などの情報を取得することもできる。\n",
    "詳細はドキュメントの[rdkit.Chem.rdchem](https://www.rdkit.org/docs/source/rdkit.Chem.rdchem.html)を参照すること。"
   ]
  },
  {
   "cell_type": "markdown",
   "id": "immune-buyer",
   "metadata": {},
   "source": [
    "## 07. 結合に対するループ\n",
    "SMILES `CC(N)=O` で表される分子に含まれる水素以外の原子間の結合について、結合のインデックス・結合の種類・両端の原子の原子記号を表示せよ。"
   ]
  },
  {
   "cell_type": "code",
   "execution_count": 11,
   "id": "legal-placement",
   "metadata": {},
   "outputs": [
    {
     "name": "stdout",
     "output_type": "stream",
     "text": [
      "0 SINGLE C C\n",
      "1 SINGLE C N\n",
      "2 DOUBLE C O\n"
     ]
    }
   ],
   "source": [
    "mol = Chem.MolFromSmiles('CC(N)=O')\n",
    "for bond in mol.GetBonds():\n",
    "    begin_idx = bond.GetBeginAtomIdx()\n",
    "    end_idx = bond.GetEndAtomIdx()\n",
    "    begin_atom = mol.GetAtomWithIdx(begin_idx)\n",
    "    end_atom = mol.GetAtomWithIdx(end_idx)\n",
    "    print(bond.GetIdx(), bond.GetBondType(), begin_atom.GetSymbol(), end_atom.GetSymbol())"
   ]
  },
  {
   "cell_type": "markdown",
   "id": "unable-cartoon",
   "metadata": {},
   "source": [
    "**解説** `GetBonds()` を使うことで分子内の結合に対するループを書くことができる。\n",
    "結合の両端の原子に関する情報を取得するには、`GetBeginAtomIdx()` と`GetEndAtomIdx()` を使って両端の原子のインデックスを取得し、`GetAtomWithIdx()` を使ってAtomオブジェクトを取得すればよい。"
   ]
  },
  {
   "cell_type": "markdown",
   "id": "valued-cosmetic",
   "metadata": {},
   "source": [
    "## 08. 環の情報を取得する\n",
    "SMILES `OC1C2C1CC2` で表される分子に含まれる環の個数を出力せよ。また、それぞれの環に含まれる原子のインデックスを出力せよ。ただし、ここで環とはSSSR（Smallest Set of Smallest Rings: 最小の環構造についての最小のセット）を指すものとする。"
   ]
  },
  {
   "cell_type": "code",
   "execution_count": 12,
   "id": "patent-ethics",
   "metadata": {},
   "outputs": [
    {
     "name": "stdout",
     "output_type": "stream",
     "text": [
      "Number of rings: 2\n",
      "[1, 2, 3]\n",
      "[4, 5, 2, 3]\n"
     ]
    }
   ],
   "source": [
    "mol = Chem.MolFromSmiles('OC1C2C1CC2')\n",
    "ri = mol.GetRingInfo()\n",
    "print(\"Number of rings:\", ri.NumRings())\n",
    "\n",
    "ssr = Chem.GetSymmSSSR(mol)\n",
    "for ring in ssr:\n",
    "    print(list(ring))"
   ]
  },
  {
   "cell_type": "markdown",
   "id": "third-paragraph",
   "metadata": {},
   "source": [
    "**解説** `GetRingInfo()` を使うことで環の情報を取得することができる。SSSRに関する情報は `GetSymmSSSR()` または `GetSSSR()` を用いて取得する。これらの関数についての詳細は[PythonでRDKitを始めようの「環の情報」](https://www.rdkit.org/docs_jp/Getting_Started_with_RDKit_in_Python_jp.html#back-to-ref-3)を参照すること。"
   ]
  },
  {
   "cell_type": "markdown",
   "id": "southwest-fighter",
   "metadata": {},
   "source": [
    "## 09. 分子量の計算\n",
    "SMILES `CC(N)=O` で表される分子の平均分子量を出力せよ。"
   ]
  },
  {
   "cell_type": "code",
   "execution_count": 13,
   "id": "urban-willow",
   "metadata": {},
   "outputs": [
    {
     "name": "stdout",
     "output_type": "stream",
     "text": [
      "59.068\n"
     ]
    }
   ],
   "source": [
    "from rdkit.Chem import Descriptors\n",
    "\n",
    "mol = Chem.MolFromSmiles('CC(N)=O')\n",
    "molwt = Descriptors.MolWt(mol)\n",
    "print(molwt)"
   ]
  },
  {
   "cell_type": "markdown",
   "id": "ordered-kansas",
   "metadata": {},
   "source": [
    "**解説** 分子量を求めるには `Descriptors.MolWt()` を用いる。Descriptorsモジュールを使うと他の情報を計算することもできる。詳しくはドキュメントの [rdkit.Chem.Descriptors module](https://www.rdkit.org/docs/source/rdkit.Chem.Descriptors.html) を参照すること。\n",
    "なお、`Descriptors.ExactMolWt()` という似た関数も用意されているが、`MolWt()` は同位体存在比を考慮した平均原子量の和を計算するのに対し、`ExactMolWt()` は存在比が最も高い同位体の原子量の和を計算するという違いがある。（参考: [MolDescriptors.cpp](https://github.com/rdkit/rdkit/blob/master/Code/GraphMol/Descriptors/MolDescriptors.cpp)）"
   ]
  }
 ],
 "metadata": {
  "kernelspec": {
   "display_name": "Python 3",
   "language": "python",
   "name": "python3"
  },
  "language_info": {
   "codemirror_mode": {
    "name": "ipython",
    "version": 3
   },
   "file_extension": ".py",
   "mimetype": "text/x-python",
   "name": "python",
   "nbconvert_exporter": "python",
   "pygments_lexer": "ipython3",
   "version": "3.8.5"
  }
 },
 "nbformat": 4,
 "nbformat_minor": 5
}
